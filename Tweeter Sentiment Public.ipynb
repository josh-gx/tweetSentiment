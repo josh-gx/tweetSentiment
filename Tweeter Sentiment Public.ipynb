{
 "cells": [
  {
   "cell_type": "markdown",
   "metadata": {},
   "source": [
    "# Tweeter Sentiment Pulse\n",
    "\n",
    "Example of TextBlob sentiment scoring on recent tweets with Tweepy."
   ]
  },
  {
   "cell_type": "code",
   "execution_count": 2,
   "metadata": {},
   "outputs": [
    {
     "name": "stdout",
     "output_type": "stream",
     "text": [
      "RT @EdKrassen: This is Australian Senator Larissa Waters. She actually stood up on the Senate floor and spoke while breastfeeding her baby.…\n",
      "Sentiment(polarity=0.0, subjectivity=0.05)\n",
      "RT @mehdirhasan: Hey US media folks, here, I would argue immodestly, is how you interview a Trump supporter on Trump's lies:\n",
      "https://t.co/D…\n",
      "Sentiment(polarity=0.0, subjectivity=0.0)\n",
      "A majority of Americans oppose impeachment. Most also say Trump lied to the public. https://t.co/5FEqR5sVjN\n",
      "Sentiment(polarity=0.25, subjectivity=0.2833333333333333)\n",
      "@TerpGrad01 @BadJohnBrown @ninaturner @Ziltap @FlipBlue2020 @SymoneDSanders As if they were interested in whatever… https://t.co/QGBqJKeq8k\n",
      "Sentiment(polarity=0.25, subjectivity=0.5)\n",
      "RT @ryanstruyk: Average presidential approval ratings through this point in term via ABC/Post and Gallup polling:\n",
      "\n",
      "Kennedy 73%\n",
      "W Bush 71%\n",
      "H…\n",
      "Sentiment(polarity=-0.15, subjectivity=0.39999999999999997)\n",
      "@MsAvaArmstrong Just hope they don't influence his policies. If they do where back to the same old problem. Trump 2020.\n",
      "Sentiment(polarity=0.03333333333333333, subjectivity=0.10833333333333334)\n",
      "RT @ryanstruyk: Average presidential approval ratings through this point in term via ABC/Post and Gallup polling:\n",
      "\n",
      "Kennedy 73%\n",
      "W Bush 71%\n",
      "H…\n",
      "Sentiment(polarity=-0.15, subjectivity=0.39999999999999997)\n",
      "RT @EdKrassen: I guarantee you that if Congress arrests just one Trump official who refuses to comply with their subpoena, the rest of them…\n",
      "Sentiment(polarity=0.0, subjectivity=0.0)\n",
      "@elyeathea Is this a Trump theater? 🤔\n",
      "Sentiment(polarity=0.0, subjectivity=0.0)\n",
      "@danthegreater @piersmorgan @jeremycorbyn He believes in having a dialogue and is happy to meet Trump but minus the… https://t.co/PyLgLnbwce\n",
      "Sentiment(polarity=0.35000000000000003, subjectivity=0.55)\n",
      "RT @funder: Congress needs to start having everyone who doesn’t comply with a subpoena arrested. Enough with the Trump legal games and stal…\n",
      "Sentiment(polarity=0.1, subjectivity=0.35)\n",
      "RT @PaulDeCristofo4: Andrew Cuomo jumps on the Republican fear monger train with Trump and attacks Bernie showing once again that “civility…\n",
      "Sentiment(polarity=0.0, subjectivity=0.0)\n",
      "@HornedPoet @PensiveTM @MatthewJohn666 @RichinMN I can understand being disillusioned. Someone who supported Bernie… https://t.co/KuGgPN8wc0\n",
      "Sentiment(polarity=0.0, subjectivity=0.0)\n"
     ]
    }
   ],
   "source": [
    "# bring dependencies\n",
    "import tweepy\n",
    "from textblob import TextBlob\n",
    "\n",
    "#set up acccess credentials\n",
    "consumer_key = \"insert here\"\n",
    "consumer_secret =\"insert here\"\n",
    "\n",
    "access_token = \"insert here\"\n",
    "access_token_secret = \"insert here\"\n",
    "\n",
    "#setup up authentication\n",
    "auth = tweepy.OAuthHandler(consumer_key, consumer_secret)\n",
    "auth.set_access_token(access_token, access_token_secret)\n",
    "\n",
    "api = tweepy.API(auth)\n",
    "\n",
    "#use search method to retrive tweets for theme\n",
    "theme = \"Trump\"\n",
    "public_tweets = api.search(theme)\n",
    "\n",
    "# pull and apply sentiment method to each tweet\n",
    "for tweet in public_tweets:\n",
    "    print(tweet.text)\n",
    "    analysis = TextBlob(tweet.text)\n",
    "    print(analysis.sentiment)"
   ]
  }
 ],
 "metadata": {
  "kernelspec": {
   "display_name": "Python 3",
   "language": "python",
   "name": "python3"
  },
  "language_info": {
   "codemirror_mode": {
    "name": "ipython",
    "version": 3
   },
   "file_extension": ".py",
   "mimetype": "text/x-python",
   "name": "python",
   "nbconvert_exporter": "python",
   "pygments_lexer": "ipython3",
   "version": "3.6.1"
  },
  "toc": {
   "base_numbering": 1,
   "nav_menu": {},
   "number_sections": true,
   "sideBar": true,
   "skip_h1_title": false,
   "title_cell": "Table of Contents",
   "title_sidebar": "Contents",
   "toc_cell": false,
   "toc_position": {},
   "toc_section_display": true,
   "toc_window_display": false
  }
 },
 "nbformat": 4,
 "nbformat_minor": 2
}
